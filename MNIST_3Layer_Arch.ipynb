{
 "cells": [
  {
   "cell_type": "code",
   "execution_count": 1,
   "metadata": {},
   "outputs": [],
   "source": [
    "import numpy as np\n",
    "#from PIL import Image\n",
    "#import matplotlib.pyplot as plt\n",
    "from sklearn import datasets\n",
    "import pandas as pd"
   ]
  },
  {
   "cell_type": "code",
   "execution_count": 2,
   "metadata": {},
   "outputs": [],
   "source": [
    "digit = datasets.load_digits()\n",
    "X = digit.data\n",
    "Y = digit.target"
   ]
  },
  {
   "cell_type": "code",
   "execution_count": 3,
   "metadata": {},
   "outputs": [
    {
     "data": {
      "text/plain": [
       "(64, 1797)"
      ]
     },
     "execution_count": 3,
     "metadata": {},
     "output_type": "execute_result"
    }
   ],
   "source": [
    "X = X.T\n",
    "X.shape"
   ]
  },
  {
   "cell_type": "code",
   "execution_count": 4,
   "metadata": {},
   "outputs": [],
   "source": [
    "y = pd.get_dummies(Y)\n",
    "y = np.array(y)\n",
    "y = y.T"
   ]
  },
  {
   "cell_type": "markdown",
   "metadata": {},
   "source": [
    "### Choosing number of neurons in Input, Hidden and Output layer"
   ]
  },
  {
   "cell_type": "code",
   "execution_count": 5,
   "metadata": {},
   "outputs": [],
   "source": [
    "n0 = X.shape[0]\n",
    "n1 = 50\n",
    "n2 = 30\n",
    "n3 = digit.target_names.shape[0]\n",
    "n4 = 1"
   ]
  },
  {
   "cell_type": "markdown",
   "metadata": {},
   "source": [
    "### Initilize weights and bias"
   ]
  },
  {
   "cell_type": "code",
   "execution_count": 6,
   "metadata": {},
   "outputs": [],
   "source": [
    "w1 = np.random.randn(n1,n0)*0.1\n",
    "b1 = np.zeros((n1,1))\n",
    "w2 = np.random.randn(n2,n1)*0.1\n",
    "b2 = np.zeros((n2,1))\n",
    "w3 = np.random.randn(n3,n2)*0.1\n",
    "b3 = np.zeros((n3,1))\n",
    "\n",
    "lr = 0.01\n",
    "m = X.shape[1]\n",
    "cost = np.zeros(88)"
   ]
  },
  {
   "cell_type": "code",
   "execution_count": 7,
   "metadata": {},
   "outputs": [
    {
     "name": "stdout",
     "output_type": "stream",
     "text": [
      "X = (64, 1797)\n",
      "w1 = (50, 64)\n",
      "b1 = (50, 1)\n",
      "w2 = (30, 50)\n",
      "b2 = (30, 1)\n",
      "w3 = (10, 30)\n",
      "b3 = (10, 1)\n"
     ]
    }
   ],
   "source": [
    "print('X = '+str(X.shape))\n",
    "print('w1 = '+str(w1.shape))\n",
    "print('b1 = '+str(b1.shape))\n",
    "print('w2 = '+str(w2.shape))\n",
    "print('b2 = '+str(b2.shape))\n",
    "print('w3 = '+str(w3.shape))\n",
    "print('b3 = '+str(b3.shape))"
   ]
  },
  {
   "cell_type": "markdown",
   "metadata": {},
   "source": [
    "### Let's find out the value of Z : Sum( WX ) + b"
   ]
  },
  {
   "cell_type": "code",
   "execution_count": 8,
   "metadata": {},
   "outputs": [],
   "source": [
    "def sigmoid(z):\n",
    "    s = 1/(1+np.exp(-z))\n",
    "    return s"
   ]
  },
  {
   "cell_type": "code",
   "execution_count": 9,
   "metadata": {},
   "outputs": [],
   "source": [
    "def relu(z):\n",
    "    r = np.maximum(0,z)\n",
    "    return r"
   ]
  },
  {
   "cell_type": "code",
   "execution_count": 10,
   "metadata": {},
   "outputs": [],
   "source": [
    "def linear(w,x,b):\n",
    "    z = np.dot(w,x) + b\n",
    "    return z"
   ]
  },
  {
   "cell_type": "code",
   "execution_count": 11,
   "metadata": {},
   "outputs": [],
   "source": [
    "def derivative(A):\n",
    "    f = np.ones(A.shape)\n",
    "    f[A<0] = 0\n",
    "    return f"
   ]
  },
  {
   "cell_type": "code",
   "execution_count": 12,
   "metadata": {},
   "outputs": [],
   "source": [
    "def cost_func(y_pred):\n",
    "    cost = (-1/m)*np.sum(np.multiply(y, np.log(y_pred)) + np.multiply((1-y), np.log(1-y_pred)))\n",
    "    return cost"
   ]
  },
  {
   "cell_type": "code",
   "execution_count": 13,
   "metadata": {},
   "outputs": [
    {
     "name": "stdout",
     "output_type": "stream",
     "text": [
      "Epoch0: Cost = 6.786492827445845\n",
      "Epoch1: Cost = 7.10092514542854\n",
      "Epoch2: Cost = 5.258276720819003\n",
      "Epoch3: Cost = 4.074271012523336\n",
      "Epoch4: Cost = 3.4138735261727002\n",
      "Epoch5: Cost = 3.1646979622442526\n",
      "Epoch6: Cost = 3.1650568025752324\n",
      "Epoch7: Cost = 3.233037087651541\n",
      "Epoch8: Cost = 3.3860437491575865\n",
      "Epoch9: Cost = 3.5451911553237694\n",
      "Epoch10: Cost = 3.5659781029080424\n",
      "Epoch11: Cost = 3.1647910951132423\n",
      "Epoch12: Cost = 3.0556168475915095\n",
      "Epoch13: Cost = 3.2071854873101113\n",
      "Epoch14: Cost = 3.417300448806039\n",
      "Epoch15: Cost = 3.354670454405256\n",
      "Epoch16: Cost = 3.1415324534515605\n",
      "Epoch17: Cost = 2.8827479315247055\n",
      "Epoch18: Cost = 3.003852102079475\n",
      "Epoch19: Cost = 3.2195942038412446\n",
      "Epoch20: Cost = 3.3712507080739442\n",
      "Epoch21: Cost = 3.002226445552625\n",
      "Epoch22: Cost = 2.7785755590825394\n",
      "Epoch23: Cost = 2.7930146844319856\n",
      "Epoch24: Cost = 3.063190559500579\n",
      "Epoch25: Cost = 3.2133767075305264\n",
      "Epoch26: Cost = 3.1532618732537783\n",
      "Epoch27: Cost = 2.6603461019726105\n",
      "Epoch28: Cost = 2.578401306323858\n",
      "Epoch29: Cost = 2.6208277663405157\n",
      "Epoch30: Cost = 2.7945473977693527\n",
      "Epoch31: Cost = 2.9720450469725295\n",
      "Epoch32: Cost = 3.034227891095367\n",
      "Epoch33: Cost = 2.5972316131237743\n",
      "Epoch34: Cost = 2.500000045111812\n",
      "Epoch35: Cost = 2.609228478075928\n",
      "Epoch36: Cost = 2.825307278946868\n",
      "Epoch37: Cost = 2.7866112235891247\n",
      "Epoch38: Cost = 2.662361113101383\n",
      "Epoch39: Cost = 2.374321696240586\n",
      "Epoch40: Cost = 2.444570315740506\n",
      "Epoch41: Cost = 2.5357424404508606\n",
      "Epoch42: Cost = 2.695221566811119\n",
      "Epoch43: Cost = 2.5381082715241208\n",
      "Epoch44: Cost = 2.405313907024334\n",
      "Epoch45: Cost = 2.2593052073575572\n",
      "Epoch46: Cost = 2.4226371886408553\n",
      "Epoch47: Cost = 2.4608175095902105\n",
      "Epoch48: Cost = 2.469535660195512\n",
      "Epoch49: Cost = 2.202588195086668\n"
     ]
    }
   ],
   "source": [
    "for i in range(50):\n",
    "    \n",
    "    ######################################## Forward Propagation ##################################################\n",
    "    \n",
    "    z1 = linear(w1, X, b1)\n",
    "    a1 = relu(z1)\n",
    "\n",
    "    z2 = linear(w2, a1, b2)\n",
    "    a2 = relu(z2)\n",
    "\n",
    "    z3 = linear(w3, a2, b3)\n",
    "    a3 = sigmoid(z3)\n",
    "\n",
    "    cost[i] = (-1/m)*np.sum(np.multiply(y, np.log(a3)) + np.multiply((1-y), np.log(1-a3)))\n",
    "    \n",
    "    ####################################### Backward Propagation ###################################################\n",
    "    \n",
    "    # Output Layer\n",
    "    \n",
    "    dz3 = a3 - y\n",
    "    dw3 = np.matmul(dz3, a2.T)*(1/m)\n",
    "    db3 = np.sum(dz3, axis = 1, keepdims=True)\n",
    "    \n",
    "    w3 = w3 - lr * dw3\n",
    "    b3 = b3 - lr * db3\n",
    "    \n",
    "    ##############################################################\n",
    "\n",
    "    # 2nd Hidden layer\n",
    "    \n",
    "    dz2 = np.dot(w3.T,dz3) * derivative(z2)\n",
    "    dw2 = np.dot(dz2, a1.T) * (1/m)\n",
    "    db2 = np.sum(dz2, axis=1, keepdims=True)\n",
    "\n",
    "    w2 = w2 - lr * dw2\n",
    "    b2 = b2 - lr * db2\n",
    "\n",
    "    ##############################################################\n",
    "\n",
    "    # 1st Hidden Layer\n",
    "    \n",
    "    dz1 = np.dot(w2.T,dz2) * derivative(z1)\n",
    "    dw1 = np.dot(dz1, X.T) * (1/m)\n",
    "    db1 = np.sum(dz1, axis=1, keepdims=True)\n",
    "\n",
    "    w1 = w1 - lr * dw1\n",
    "    b1 = b1 - lr * db1\n",
    "    \n",
    "    ##############################################################\n",
    "\n",
    "    print('Epoch' + str(i) + ': Cost = ' + str(cost[i]))\n"
   ]
  }
 ],
 "metadata": {
  "kernelspec": {
   "display_name": "Python 3",
   "language": "python",
   "name": "python3"
  },
  "language_info": {
   "codemirror_mode": {
    "name": "ipython",
    "version": 3
   },
   "file_extension": ".py",
   "mimetype": "text/x-python",
   "name": "python",
   "nbconvert_exporter": "python",
   "pygments_lexer": "ipython3",
   "version": "3.6.8"
  }
 },
 "nbformat": 4,
 "nbformat_minor": 2
}
